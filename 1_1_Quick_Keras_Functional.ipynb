{
 "cells": [
  {
   "cell_type": "markdown",
   "metadata": {
    "id": "HZc219MFFibh"
   },
   "source": [
    "# Keras로 Linear&Logistic Regression 맛보기!\n",
    "\n",
    "### Kaggle Link for exercise :\n",
    "* [Digit Recognizer](https://www.kaggle.com/c/digit-recognizer) : \n",
    "\n",
    "#### 실습목표<br>\n",
    "1. keras의 모델링 아이디어를 이해한다.\n",
    "2. 모든 코드를 이해한다."
   ]
  },
  {
   "cell_type": "markdown",
   "metadata": {
    "id": "dwEdLgZpFibi"
   },
   "source": [
    "## Quick Linear Regression!"
   ]
  },
  {
   "cell_type": "code",
   "execution_count": 1,
   "metadata": {
    "id": "Lbold6iIS8E1"
   },
   "outputs": [],
   "source": [
    "import tensorflow as tf\n",
    "from tensorflow import keras\n",
    "\n",
    "import numpy as np"
   ]
  },
  {
   "cell_type": "code",
   "execution_count": 3,
   "metadata": {
    "id": "QvObzQ1MFibj"
   },
   "outputs": [
    {
     "name": "stdout",
     "output_type": "stream",
     "text": [
      "[ 0  1  2  3  4  5  6  7  8  9 10 11 12 13 14 15 16 17 18 19]\n",
      "[-1  1  3  5  7  9 11 13 15 17 19 21 23 25 27 29 31 33 35 37]\n"
     ]
    }
   ],
   "source": [
    "x = np.array(range(0,20)) \n",
    "y = x * 2 -1\n",
    "\n",
    "print(x)\n",
    "print(y)"
   ]
  },
  {
   "cell_type": "code",
   "execution_count": 4,
   "metadata": {
    "id": "iUqZACd2IRcn"
   },
   "outputs": [],
   "source": [
    "# 혹시 이미 그려둔 그래프가 있다면 날려줘!\n",
    "keras.backend.clear_session()\n",
    "\n",
    "# 레이어들을 사슬로 연결하 듯이 연결!\n",
    "input_layer = keras.layers.Input(shape=(1,))\n",
    "output_layer = keras.layers.Dense(1)(input_layer)\n",
    "\n",
    "# 모델의 시작과 끝을 지정\n",
    "model = keras.models.Model(inputs=input_layer, outputs=output_layer)\n",
    "\n",
    "# 컴파일 해주렴\n",
    "model.compile(loss = 'mse', optimizer = 'adam')"
   ]
  },
  {
   "cell_type": "code",
   "execution_count": null,
   "metadata": {
    "id": "s1UM3mOzLTeb"
   },
   "outputs": [],
   "source": [
    "# 데이터를 넣어서 학습시키자!\n",
    "model.fit(x, y, epochs=10, verbose=1)"
   ]
  },
  {
   "cell_type": "code",
   "execution_count": null,
   "metadata": {
    "id": "FZH5RHQivTiJ"
   },
   "outputs": [],
   "source": [
    "# 결과 출력해줘!\n",
    "print(y)\n",
    "print(model.predict(x).reshape(-1,) )"
   ]
  },
  {
   "cell_type": "markdown",
   "metadata": {
    "id": "zvqPQxmgFibo"
   },
   "source": [
    "## Now, Your turn!"
   ]
  },
  {
   "cell_type": "code",
   "execution_count": 1,
   "metadata": {
    "id": "xlxFydqCva9k"
   },
   "outputs": [],
   "source": [
    "import tensorflow as tf\n",
    "from tensorflow import keras\n",
    "\n",
    "import numpy as np"
   ]
  },
  {
   "cell_type": "code",
   "execution_count": 5,
   "metadata": {
    "id": "wIFzEwY2PWpX",
    "scrolled": true
   },
   "outputs": [
    {
     "name": "stdout",
     "output_type": "stream",
     "text": [
      "[ 0  1  2  3  4  5  6  7  8  9 10 11 12 13 14 15 16 17 18 19]\n",
      "[ 10   7   4   1  -2  -5  -8 -11 -14 -17 -20 -23 -26 -29 -32 -35 -38 -41\n",
      " -44 -47]\n"
     ]
    }
   ],
   "source": [
    "x = np.array(range(0,20)) \n",
    "y = x * (-3) + 10\n",
    "\n",
    "print(x)\n",
    "print(y)"
   ]
  },
  {
   "cell_type": "code",
   "execution_count": 16,
   "metadata": {
    "id": "pNul2_K5PhGi"
   },
   "outputs": [],
   "source": [
    "keras.backend.clear_session()\n",
    "\n",
    "il = keras.layers.Input(shape = (1,))\n",
    "ol = keras.layers.Dense(1)(il)\n",
    "\n",
    "model = keras.models.Model(il,ol)\n",
    "\n",
    "model.compile(loss = keras.losses.mean_squared_error,\n",
    "             optimizer = 'adam',\n",
    "             )"
   ]
  },
  {
   "cell_type": "code",
   "execution_count": 17,
   "metadata": {
    "id": "zhr1VsJzQcGI"
   },
   "outputs": [
    {
     "name": "stdout",
     "output_type": "stream",
     "text": [
      "Epoch 1/10\n",
      "1/1 [==============================] - 0s 389ms/step - loss: 229.0593\n",
      "Epoch 2/10\n",
      "1/1 [==============================] - 0s 5ms/step - loss: 228.6973\n",
      "Epoch 3/10\n",
      "1/1 [==============================] - 0s 8ms/step - loss: 228.3357\n",
      "Epoch 4/10\n",
      "1/1 [==============================] - 0s 6ms/step - loss: 227.9743\n",
      "Epoch 5/10\n",
      "1/1 [==============================] - 0s 8ms/step - loss: 227.6133\n",
      "Epoch 6/10\n",
      "1/1 [==============================] - 0s 9ms/step - loss: 227.2526\n",
      "Epoch 7/10\n",
      "1/1 [==============================] - 0s 5ms/step - loss: 226.8921\n",
      "Epoch 8/10\n",
      "1/1 [==============================] - 0s 7ms/step - loss: 226.5320\n",
      "Epoch 9/10\n",
      "1/1 [==============================] - 0s 8ms/step - loss: 226.1722\n",
      "Epoch 10/10\n",
      "1/1 [==============================] - 0s 6ms/step - loss: 225.8128\n"
     ]
    },
    {
     "data": {
      "text/plain": [
       "<keras.callbacks.History at 0x1ab08598670>"
      ]
     },
     "execution_count": 17,
     "metadata": {},
     "output_type": "execute_result"
    }
   ],
   "source": [
    "model.fit(x, y, epochs=10, verbose=1)"
   ]
  },
  {
   "cell_type": "code",
   "execution_count": 18,
   "metadata": {},
   "outputs": [
    {
     "name": "stdout",
     "output_type": "stream",
     "text": [
      "[0 0 0 0 0 0 0 0 0 0 1 1 1 1 1 1 1 1 1 1]\n",
      "[ 9.99734830e-03 -1.28296459e+00 -2.57592654e+00 -3.86888838e+00\n",
      " -5.16185045e+00 -6.45481253e+00 -7.74777412e+00 -9.04073620e+00\n",
      " -1.03336983e+01 -1.16266603e+01 -1.29196224e+01 -1.42125845e+01\n",
      " -1.55055456e+01 -1.67985096e+01 -1.80914707e+01 -1.93844337e+01\n",
      " -2.06773949e+01 -2.19703560e+01 -2.32633190e+01 -2.45562801e+01]\n"
     ]
    }
   ],
   "source": [
    "print(y)\n",
    "print(model.predict(x).reshape(-1,) )"
   ]
  },
  {
   "cell_type": "markdown",
   "metadata": {
    "id": "CMfaYMFCTz2d"
   },
   "source": [
    "## Quick Logistic Regression!"
   ]
  },
  {
   "cell_type": "code",
   "execution_count": 9,
   "metadata": {
    "id": "OmGKbCiATz2e"
   },
   "outputs": [],
   "source": [
    "import tensorflow as tf\n",
    "from tensorflow import keras\n",
    "\n",
    "import numpy as np"
   ]
  },
  {
   "cell_type": "code",
   "execution_count": 10,
   "metadata": {
    "id": "yzweU4sRTz2g"
   },
   "outputs": [
    {
     "name": "stdout",
     "output_type": "stream",
     "text": [
      "[ 0  1  2  3  4  5  6  7  8  9 10 11 12 13 14 15 16 17 18 19]\n",
      "[0 0 0 0 0 0 0 0 0 0 1 1 1 1 1 1 1 1 1 1]\n"
     ]
    }
   ],
   "source": [
    "x = np.array(range(0,20)) \n",
    "y = np.array([0]*10 + [1]*10)\n",
    "\n",
    "print(x)\n",
    "print(y)"
   ]
  },
  {
   "cell_type": "code",
   "execution_count": 11,
   "metadata": {
    "id": "wiQzDaBzTz2j"
   },
   "outputs": [],
   "source": [
    "# 혹시 이미 그려둔 그래프가 있다면 날려줘!\n",
    "keras.backend.clear_session()\n",
    "\n",
    "# 레이어들을 사슬로 연결하 듯이 연결!\n",
    "input_layer = keras.layers.Input(shape=(1,))\n",
    "output_layer = keras.layers.Dense(1, activation='sigmoid')(input_layer)\n",
    "\n",
    "# 모델의 시작과 끝을 지정\n",
    "model = keras.models.Model(inputs=input_layer, outputs=output_layer)\n",
    "\n",
    "\n",
    "# 컴파일 해주렴\n",
    "model.compile(loss = 'binary_crossentropy', optimizer = 'adam', metrics=['accuracy'])"
   ]
  },
  {
   "cell_type": "code",
   "execution_count": 12,
   "metadata": {
    "id": "b_FXYQ7fTz2l"
   },
   "outputs": [
    {
     "name": "stdout",
     "output_type": "stream",
     "text": [
      "Epoch 1/10\n",
      "1/1 [==============================] - 1s 552ms/step - loss: 2.3615 - accuracy: 0.5000\n",
      "Epoch 2/10\n",
      "1/1 [==============================] - 0s 5ms/step - loss: 2.3544 - accuracy: 0.4500\n",
      "Epoch 3/10\n",
      "1/1 [==============================] - 0s 7ms/step - loss: 2.3472 - accuracy: 0.4500\n",
      "Epoch 4/10\n",
      "1/1 [==============================] - 0s 8ms/step - loss: 2.3400 - accuracy: 0.4500\n",
      "Epoch 5/10\n",
      "1/1 [==============================] - 0s 11ms/step - loss: 2.3328 - accuracy: 0.4500\n",
      "Epoch 6/10\n",
      "1/1 [==============================] - 0s 10ms/step - loss: 2.3256 - accuracy: 0.4500\n",
      "Epoch 7/10\n",
      "1/1 [==============================] - 0s 12ms/step - loss: 2.3185 - accuracy: 0.4500\n",
      "Epoch 8/10\n",
      "1/1 [==============================] - 0s 10ms/step - loss: 2.3113 - accuracy: 0.4500\n",
      "Epoch 9/10\n",
      "1/1 [==============================] - 0s 6ms/step - loss: 2.3041 - accuracy: 0.4500\n",
      "Epoch 10/10\n",
      "1/1 [==============================] - 0s 6ms/step - loss: 2.2970 - accuracy: 0.4500\n",
      "[0 0 0 0 0 0 0 0 0 0 1 1 1 1 1 1 1 1 1 1]\n",
      "[0.502499   0.42930138 0.35907063 0.29440224 0.23707262 0.18793342\n",
      " 0.14701682 0.11376059 0.08725759 0.06646603 0.05035526 0.03799066\n",
      " 0.02857086 0.02143463 0.01605141 0.01200357 0.00896719 0.00669375\n",
      " 0.00499368 0.0037238 ]\n"
     ]
    }
   ],
   "source": [
    "# 데이터를 넣어서 학습시키자!\n",
    "model.fit(x, y, epochs=10, verbose=1)\n",
    "\n",
    "# 결과 출력해줘!\n",
    "print(y)\n",
    "print(model.predict(x).reshape(-1,) )"
   ]
  },
  {
   "cell_type": "markdown",
   "metadata": {
    "id": "bqJtsDjtTz2n"
   },
   "source": [
    "## Now, Your turn!"
   ]
  },
  {
   "cell_type": "code",
   "execution_count": null,
   "metadata": {
    "id": "-ihUgWzFvkPL"
   },
   "outputs": [],
   "source": []
  },
  {
   "cell_type": "code",
   "execution_count": 2,
   "metadata": {
    "id": "IGSN3QAPTz2o"
   },
   "outputs": [
    {
     "name": "stdout",
     "output_type": "stream",
     "text": [
      "[ 0  1  2  3  4  5  6  7  8  9 10 11 12 13 14 15 16 17 18 19 20 21 22 23\n",
      " 24 25 26 27 28 29 30 31 32 33 34 35 36 37 38 39]\n",
      "[0 0 0 0 0 0 0 0 0 0 0 0 0 0 0 0 0 0 0 0 1 1 1 1 1 1 1 1 1 1 1 1 1 1 1 1 1\n",
      " 1 1 1]\n"
     ]
    }
   ],
   "source": [
    "x = np.array(range(0,40)) \n",
    "y = np.array([0]*20 + [1]*20)\n",
    "print(x)\n",
    "print(y)"
   ]
  },
  {
   "cell_type": "code",
   "execution_count": 4,
   "metadata": {
    "id": "Ma61XgWYUMPi"
   },
   "outputs": [],
   "source": [
    "keras.backend.clear_session()\n",
    "\n",
    "il = keras.layers.Input(shape = (1,))\n",
    "ol = keras.layers.Dense(1, activation = 'sigmoid')(il)\n",
    "\n",
    "model = keras.models.Model(il, ol)\n",
    "\n",
    "model.compile(loss = 'binary_crossentropy',\n",
    "             optimizer = 'adam',\n",
    "             metrics = ['accuracy'])"
   ]
  },
  {
   "cell_type": "code",
   "execution_count": 5,
   "metadata": {
    "id": "nniSdDU1UM29"
   },
   "outputs": [
    {
     "name": "stdout",
     "output_type": "stream",
     "text": [
      "Epoch 1/10\n",
      "2/2 [==============================] - 1s 6ms/step - loss: 4.7771 - accuracy: 0.5250\n",
      "Epoch 2/10\n",
      "2/2 [==============================] - 0s 6ms/step - loss: 4.7667 - accuracy: 0.5250\n",
      "Epoch 3/10\n",
      "2/2 [==============================] - 0s 6ms/step - loss: 4.7561 - accuracy: 0.5250\n",
      "Epoch 4/10\n",
      "2/2 [==============================] - 0s 6ms/step - loss: 4.7461 - accuracy: 0.5250\n",
      "Epoch 5/10\n",
      "2/2 [==============================] - 0s 6ms/step - loss: 4.7357 - accuracy: 0.5250\n",
      "Epoch 6/10\n",
      "2/2 [==============================] - 0s 5ms/step - loss: 4.7251 - accuracy: 0.5250\n",
      "Epoch 7/10\n",
      "2/2 [==============================] - 0s 5ms/step - loss: 4.7152 - accuracy: 0.5250\n",
      "Epoch 8/10\n",
      "2/2 [==============================] - 0s 6ms/step - loss: 4.7046 - accuracy: 0.5250\n",
      "Epoch 9/10\n",
      "2/2 [==============================] - 0s 7ms/step - loss: 4.6944 - accuracy: 0.5250\n",
      "Epoch 10/10\n",
      "2/2 [==============================] - 0s 6ms/step - loss: 4.6841 - accuracy: 0.5250\n"
     ]
    },
    {
     "data": {
      "text/plain": [
       "<keras.callbacks.History at 0x1e149a12fd0>"
      ]
     },
     "execution_count": 5,
     "metadata": {},
     "output_type": "execute_result"
    }
   ],
   "source": [
    "model.fit(x,y, epochs=10, verbose = 1)"
   ]
  },
  {
   "cell_type": "code",
   "execution_count": 6,
   "metadata": {
    "id": "BNKQQzy5UNFm"
   },
   "outputs": [
    {
     "name": "stdout",
     "output_type": "stream",
     "text": [
      "[0 0 0 0 0 0 0 0 0 0 0 0 0 0 0 0 0 0 0 0 1 1 1 1 1 1 1 1 1 1 1 1 1 1 1 1 1\n",
      " 1 1 1]\n",
      "[0.49500993 0.72307396 0.87429535 0.9487877  0.9801388  0.9924502\n",
      " 0.99715227 0.998929   0.99959767 0.99984884 0.99994314 0.99997866\n",
      " 0.9999921  0.999997   0.9999989  0.9999996  1.         1.\n",
      " 1.         1.         1.         1.         1.         1.\n",
      " 1.         1.         1.         1.         1.         1.\n",
      " 1.         1.         1.         1.         1.         1.\n",
      " 1.         1.         1.         1.        ]\n"
     ]
    }
   ],
   "source": [
    "print(y)\n",
    "print(model.predict(x).reshape(-1,) ) "
   ]
  },
  {
   "cell_type": "code",
   "execution_count": null,
   "metadata": {},
   "outputs": [],
   "source": []
  }
 ],
 "metadata": {
  "colab": {
   "collapsed_sections": [],
   "name": "1_1_Quick_Keras_Functional.ipynb",
   "provenance": []
  },
  "kernelspec": {
   "display_name": "Python 3",
   "language": "python",
   "name": "python3"
  },
  "language_info": {
   "codemirror_mode": {
    "name": "ipython",
    "version": 3
   },
   "file_extension": ".py",
   "mimetype": "text/x-python",
   "name": "python",
   "nbconvert_exporter": "python",
   "pygments_lexer": "ipython3",
   "version": "3.8.8"
  }
 },
 "nbformat": 4,
 "nbformat_minor": 1
}
