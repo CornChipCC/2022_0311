{
 "cells": [
  {
   "cell_type": "markdown",
   "metadata": {
    "id": "keUh6GP3UUZK"
   },
   "source": [
    "# Keras로 Linear&Logistic Regression 조금 더 맛보기"
   ]
  },
  {
   "cell_type": "code",
   "execution_count": 1,
   "metadata": {
    "id": "hHMVH_IRUffh"
   },
   "outputs": [],
   "source": [
    "import tensorflow as tf\n",
    "from tensorflow import keras\n",
    "\n",
    "import numpy as np\n",
    "import pandas as pd"
   ]
  },
  {
   "cell_type": "markdown",
   "metadata": {
    "id": "usKNktcHU7Ey"
   },
   "source": [
    "# Linear Regression on 쬐금 더 어려운 데이터"
   ]
  },
  {
   "cell_type": "code",
   "execution_count": 45,
   "metadata": {
    "id": "BVEo_dbtWYRw"
   },
   "outputs": [],
   "source": [
    "from sklearn.datasets import load_boston"
   ]
  },
  {
   "cell_type": "code",
   "execution_count": 46,
   "metadata": {
    "id": "bfEYfAjuWfYV",
    "scrolled": true
   },
   "outputs": [],
   "source": [
    "boston = load_boston()"
   ]
  },
  {
   "cell_type": "code",
   "execution_count": 47,
   "metadata": {
    "id": "kIYkQ9CmWglQ"
   },
   "outputs": [
    {
     "data": {
      "text/plain": [
       "((506, 13), (506,))"
      ]
     },
     "execution_count": 47,
     "metadata": {},
     "output_type": "execute_result"
    }
   ],
   "source": [
    "x = boston.data\n",
    "y = boston.target\n",
    "\n",
    "x.shape, y.shape"
   ]
  },
  {
   "cell_type": "code",
   "execution_count": 48,
   "metadata": {},
   "outputs": [
    {
     "data": {
      "text/plain": [
       "((506, 13), (506,))"
      ]
     },
     "execution_count": 48,
     "metadata": {},
     "output_type": "execute_result"
    }
   ],
   "source": [
    "x.shape, y.shape"
   ]
  },
  {
   "cell_type": "code",
   "execution_count": 49,
   "metadata": {
    "id": "wcp6Y_5LWiFz"
   },
   "outputs": [],
   "source": [
    "keras.backend.clear_session()\n",
    "\n",
    "il = keras.layers.Input(shape=(13,))\n",
    "ol = keras.layers.Dense(1)(il)\n",
    "\n",
    "model = keras.models.Model(il,ol)\n",
    "\n",
    "model.compile(loss = 'mse',\n",
    "             optimizer = 'adam')\n"
   ]
  },
  {
   "cell_type": "code",
   "execution_count": 88,
   "metadata": {
    "id": "txzwhxFlWoxF",
    "scrolled": true
   },
   "outputs": [
    {
     "name": "stdout",
     "output_type": "stream",
     "text": [
      "Epoch 1/100\n",
      "16/16 [==============================] - 0s 2ms/step - loss: 25.7147\n",
      "Epoch 2/100\n",
      "16/16 [==============================] - 0s 2ms/step - loss: 25.7225\n",
      "Epoch 3/100\n",
      "16/16 [==============================] - 0s 2ms/step - loss: 25.6298\n",
      "Epoch 4/100\n",
      "16/16 [==============================] - 0s 2ms/step - loss: 25.8983\n",
      "Epoch 5/100\n",
      "16/16 [==============================] - 0s 2ms/step - loss: 25.9672\n",
      "Epoch 6/100\n",
      "16/16 [==============================] - 0s 2ms/step - loss: 25.5854\n",
      "Epoch 7/100\n",
      "16/16 [==============================] - 0s 2ms/step - loss: 26.1973\n",
      "Epoch 8/100\n",
      "16/16 [==============================] - 0s 2ms/step - loss: 25.8839\n",
      "Epoch 9/100\n",
      "16/16 [==============================] - 0s 2ms/step - loss: 25.5239\n",
      "Epoch 10/100\n",
      "16/16 [==============================] - 0s 2ms/step - loss: 25.6845\n",
      "Epoch 11/100\n",
      "16/16 [==============================] - 0s 2ms/step - loss: 25.8641\n",
      "Epoch 12/100\n",
      "16/16 [==============================] - 0s 2ms/step - loss: 25.5862\n",
      "Epoch 13/100\n",
      "16/16 [==============================] - 0s 2ms/step - loss: 25.6481\n",
      "Epoch 14/100\n",
      "16/16 [==============================] - 0s 2ms/step - loss: 25.8312\n",
      "Epoch 15/100\n",
      "16/16 [==============================] - 0s 2ms/step - loss: 25.6064\n",
      "Epoch 16/100\n",
      "16/16 [==============================] - 0s 2ms/step - loss: 25.5926\n",
      "Epoch 17/100\n",
      "16/16 [==============================] - 0s 2ms/step - loss: 25.6048\n",
      "Epoch 18/100\n",
      "16/16 [==============================] - 0s 2ms/step - loss: 26.4756\n",
      "Epoch 19/100\n",
      "16/16 [==============================] - 0s 2ms/step - loss: 25.7839\n",
      "Epoch 20/100\n",
      "16/16 [==============================] - 0s 2ms/step - loss: 25.5369\n",
      "Epoch 21/100\n",
      "16/16 [==============================] - 0s 2ms/step - loss: 25.7442\n",
      "Epoch 22/100\n",
      "16/16 [==============================] - 0s 2ms/step - loss: 25.5093\n",
      "Epoch 23/100\n",
      "16/16 [==============================] - 0s 2ms/step - loss: 25.7294\n",
      "Epoch 24/100\n",
      "16/16 [==============================] - 0s 2ms/step - loss: 25.6392\n",
      "Epoch 25/100\n",
      "16/16 [==============================] - 0s 2ms/step - loss: 26.0204\n",
      "Epoch 26/100\n",
      "16/16 [==============================] - 0s 2ms/step - loss: 25.8042\n",
      "Epoch 27/100\n",
      "16/16 [==============================] - 0s 2ms/step - loss: 25.8522\n",
      "Epoch 28/100\n",
      "16/16 [==============================] - 0s 2ms/step - loss: 25.8822\n",
      "Epoch 29/100\n",
      "16/16 [==============================] - 0s 2ms/step - loss: 25.5511\n",
      "Epoch 30/100\n",
      "16/16 [==============================] - 0s 2ms/step - loss: 25.4880\n",
      "Epoch 31/100\n",
      "16/16 [==============================] - 0s 3ms/step - loss: 25.6628\n",
      "Epoch 32/100\n",
      "16/16 [==============================] - 0s 2ms/step - loss: 25.4190\n",
      "Epoch 33/100\n",
      "16/16 [==============================] - 0s 2ms/step - loss: 25.5429\n",
      "Epoch 34/100\n",
      "16/16 [==============================] - 0s 2ms/step - loss: 25.5041\n",
      "Epoch 35/100\n",
      "16/16 [==============================] - 0s 2ms/step - loss: 25.2985\n",
      "Epoch 36/100\n",
      "16/16 [==============================] - 0s 2ms/step - loss: 26.3887\n",
      "Epoch 37/100\n",
      "16/16 [==============================] - 0s 2ms/step - loss: 25.4761\n",
      "Epoch 38/100\n",
      "16/16 [==============================] - 0s 2ms/step - loss: 25.6282\n",
      "Epoch 39/100\n",
      "16/16 [==============================] - 0s 2ms/step - loss: 25.4603\n",
      "Epoch 40/100\n",
      "16/16 [==============================] - 0s 2ms/step - loss: 25.9782\n",
      "Epoch 41/100\n",
      "16/16 [==============================] - 0s 2ms/step - loss: 25.6765\n",
      "Epoch 42/100\n",
      "16/16 [==============================] - 0s 2ms/step - loss: 25.4019\n",
      "Epoch 43/100\n",
      "16/16 [==============================] - 0s 2ms/step - loss: 25.4561\n",
      "Epoch 44/100\n",
      "16/16 [==============================] - 0s 2ms/step - loss: 25.4967\n",
      "Epoch 45/100\n",
      "16/16 [==============================] - 0s 2ms/step - loss: 25.7564\n",
      "Epoch 46/100\n",
      "16/16 [==============================] - 0s 2ms/step - loss: 25.7352\n",
      "Epoch 47/100\n",
      "16/16 [==============================] - 0s 2ms/step - loss: 25.5639\n",
      "Epoch 48/100\n",
      "16/16 [==============================] - 0s 2ms/step - loss: 25.6621\n",
      "Epoch 49/100\n",
      "16/16 [==============================] - 0s 2ms/step - loss: 25.4579\n",
      "Epoch 50/100\n",
      "16/16 [==============================] - 0s 2ms/step - loss: 25.5226\n",
      "Epoch 51/100\n",
      "16/16 [==============================] - 0s 2ms/step - loss: 25.7543\n",
      "Epoch 52/100\n",
      "16/16 [==============================] - 0s 2ms/step - loss: 25.5893\n",
      "Epoch 53/100\n",
      "16/16 [==============================] - 0s 2ms/step - loss: 25.5943\n",
      "Epoch 54/100\n",
      "16/16 [==============================] - 0s 2ms/step - loss: 25.2577\n",
      "Epoch 55/100\n",
      "16/16 [==============================] - 0s 2ms/step - loss: 25.3496\n",
      "Epoch 56/100\n",
      "16/16 [==============================] - 0s 2ms/step - loss: 25.5044\n",
      "Epoch 57/100\n",
      "16/16 [==============================] - 0s 2ms/step - loss: 26.4223\n",
      "Epoch 58/100\n",
      "16/16 [==============================] - 0s 2ms/step - loss: 26.2520\n",
      "Epoch 59/100\n",
      "16/16 [==============================] - 0s 2ms/step - loss: 25.5708\n",
      "Epoch 60/100\n",
      "16/16 [==============================] - 0s 2ms/step - loss: 25.7643\n",
      "Epoch 61/100\n",
      "16/16 [==============================] - 0s 2ms/step - loss: 25.6723\n",
      "Epoch 62/100\n",
      "16/16 [==============================] - 0s 2ms/step - loss: 25.7294\n",
      "Epoch 63/100\n",
      "16/16 [==============================] - 0s 2ms/step - loss: 26.6690\n",
      "Epoch 64/100\n",
      "16/16 [==============================] - 0s 2ms/step - loss: 25.1757\n",
      "Epoch 65/100\n",
      "16/16 [==============================] - 0s 2ms/step - loss: 25.7197\n",
      "Epoch 66/100\n",
      "16/16 [==============================] - 0s 2ms/step - loss: 26.0887\n",
      "Epoch 67/100\n",
      "16/16 [==============================] - 0s 2ms/step - loss: 25.5738\n",
      "Epoch 68/100\n",
      "16/16 [==============================] - 0s 2ms/step - loss: 25.3199\n",
      "Epoch 69/100\n",
      "16/16 [==============================] - 0s 2ms/step - loss: 25.4386\n",
      "Epoch 70/100\n",
      "16/16 [==============================] - 0s 2ms/step - loss: 25.9232\n",
      "Epoch 71/100\n",
      "16/16 [==============================] - 0s 2ms/step - loss: 25.6783\n",
      "Epoch 72/100\n",
      "16/16 [==============================] - 0s 2ms/step - loss: 25.3110\n",
      "Epoch 73/100\n",
      "16/16 [==============================] - 0s 2ms/step - loss: 25.2006\n",
      "Epoch 74/100\n",
      "16/16 [==============================] - 0s 2ms/step - loss: 26.0969\n",
      "Epoch 75/100\n",
      "16/16 [==============================] - 0s 2ms/step - loss: 25.3981\n",
      "Epoch 76/100\n",
      "16/16 [==============================] - 0s 2ms/step - loss: 25.3762\n",
      "Epoch 77/100\n",
      "16/16 [==============================] - 0s 2ms/step - loss: 25.3193\n",
      "Epoch 78/100\n",
      "16/16 [==============================] - 0s 2ms/step - loss: 25.6090\n",
      "Epoch 79/100\n",
      "16/16 [==============================] - 0s 2ms/step - loss: 25.6068\n",
      "Epoch 80/100\n",
      "16/16 [==============================] - 0s 2ms/step - loss: 25.3042\n",
      "Epoch 81/100\n",
      "16/16 [==============================] - 0s 2ms/step - loss: 25.9968\n",
      "Epoch 82/100\n",
      "16/16 [==============================] - 0s 2ms/step - loss: 25.5744\n",
      "Epoch 83/100\n",
      "16/16 [==============================] - 0s 2ms/step - loss: 25.7503\n",
      "Epoch 84/100\n",
      "16/16 [==============================] - 0s 2ms/step - loss: 25.2501\n",
      "Epoch 85/100\n",
      "16/16 [==============================] - 0s 2ms/step - loss: 25.7338\n",
      "Epoch 86/100\n",
      "16/16 [==============================] - 0s 2ms/step - loss: 25.6716\n",
      "Epoch 87/100\n",
      "16/16 [==============================] - 0s 2ms/step - loss: 25.6047\n",
      "Epoch 88/100\n",
      "16/16 [==============================] - 0s 2ms/step - loss: 25.5086\n",
      "Epoch 89/100\n",
      "16/16 [==============================] - 0s 2ms/step - loss: 25.6018\n",
      "Epoch 90/100\n",
      "16/16 [==============================] - 0s 2ms/step - loss: 25.5140\n",
      "Epoch 91/100\n",
      "16/16 [==============================] - 0s 2ms/step - loss: 25.2990\n",
      "Epoch 92/100\n",
      "16/16 [==============================] - 0s 2ms/step - loss: 25.7418\n",
      "Epoch 93/100\n",
      "16/16 [==============================] - 0s 2ms/step - loss: 25.9009\n",
      "Epoch 94/100\n",
      "16/16 [==============================] - 0s 2ms/step - loss: 25.8744\n",
      "Epoch 95/100\n",
      "16/16 [==============================] - 0s 2ms/step - loss: 26.0586\n",
      "Epoch 96/100\n",
      "16/16 [==============================] - 0s 2ms/step - loss: 25.4232\n",
      "Epoch 97/100\n",
      "16/16 [==============================] - 0s 2ms/step - loss: 25.3078\n",
      "Epoch 98/100\n",
      "16/16 [==============================] - 0s 2ms/step - loss: 25.5771\n",
      "Epoch 99/100\n",
      "16/16 [==============================] - 0s 2ms/step - loss: 25.4666\n",
      "Epoch 100/100\n",
      "16/16 [==============================] - 0s 2ms/step - loss: 25.3904\n"
     ]
    },
    {
     "data": {
      "text/plain": [
       "<keras.callbacks.History at 0x1818b98e490>"
      ]
     },
     "execution_count": 88,
     "metadata": {},
     "output_type": "execute_result"
    }
   ],
   "source": [
    "model.fit(x, y, epochs=100, verbose = 1)"
   ]
  },
  {
   "cell_type": "code",
   "execution_count": 89,
   "metadata": {
    "scrolled": true
   },
   "outputs": [
    {
     "name": "stdout",
     "output_type": "stream",
     "text": [
      "[24.  21.6 34.7 33.4 36.2]\n",
      "[29.2905   24.481781 30.332031 29.569431 28.985268]\n"
     ]
    }
   ],
   "source": [
    "print(y[:5])\n",
    "print(model.predict(x)[:5].reshape(-1,) )"
   ]
  },
  {
   "cell_type": "markdown",
   "metadata": {
    "id": "2WKWxkFcWuIS"
   },
   "source": [
    "# Logistic Regression 쬐금 더 어려운 데이터"
   ]
  },
  {
   "cell_type": "code",
   "execution_count": 33,
   "metadata": {
    "id": "tcpM1yMBXPMV"
   },
   "outputs": [],
   "source": [
    "from sklearn.datasets import load_breast_cancer"
   ]
  },
  {
   "cell_type": "code",
   "execution_count": 34,
   "metadata": {
    "id": "kywnQJlHXZCg"
   },
   "outputs": [],
   "source": [
    "cancer = load_breast_cancer()"
   ]
  },
  {
   "cell_type": "code",
   "execution_count": 35,
   "metadata": {
    "id": "Fbgs4YZrXcCB"
   },
   "outputs": [],
   "source": [
    "x = cancer.data\n",
    "y = cancer.target\n",
    "\n",
    "# 모양 확인해볼 것"
   ]
  },
  {
   "cell_type": "code",
   "execution_count": 36,
   "metadata": {
    "id": "8VXrsX4_Xgrl"
   },
   "outputs": [
    {
     "data": {
      "text/plain": [
       "((569, 30), (569,))"
      ]
     },
     "execution_count": 36,
     "metadata": {},
     "output_type": "execute_result"
    }
   ],
   "source": [
    "x.shape, y.shape"
   ]
  },
  {
   "cell_type": "code",
   "execution_count": 37,
   "metadata": {},
   "outputs": [],
   "source": [
    "keras.backend.clear_session()\n",
    "\n",
    "il = keras.layers.Input(shape=(30,))\n",
    "ol = keras.layers.Dense(1, activation = 'sigmoid')(il)\n",
    "\n",
    "model = keras.models.Model(il, ol)\n",
    "\n",
    "model.compile(loss = 'binary_crossentropy',\n",
    "             optimizer = 'adam',\n",
    "             metrics = ['accuracy'])"
   ]
  },
  {
   "cell_type": "code",
   "execution_count": 42,
   "metadata": {},
   "outputs": [
    {
     "name": "stdout",
     "output_type": "stream",
     "text": [
      "Epoch 1/10\n",
      "18/18 [==============================] - 0s 2ms/step - loss: 0.9872 - accuracy: 0.9086\n",
      "Epoch 2/10\n",
      "18/18 [==============================] - 0s 2ms/step - loss: 0.9809 - accuracy: 0.9139\n",
      "Epoch 3/10\n",
      "18/18 [==============================] - 0s 2ms/step - loss: 0.9804 - accuracy: 0.9086\n",
      "Epoch 4/10\n",
      "18/18 [==============================] - 0s 2ms/step - loss: 0.9722 - accuracy: 0.9139\n",
      "Epoch 5/10\n",
      "18/18 [==============================] - 0s 2ms/step - loss: 0.9719 - accuracy: 0.9104\n",
      "Epoch 6/10\n",
      "18/18 [==============================] - 0s 3ms/step - loss: 0.9697 - accuracy: 0.9086\n",
      "Epoch 7/10\n",
      "18/18 [==============================] - 0s 2ms/step - loss: 0.9543 - accuracy: 0.9121\n",
      "Epoch 8/10\n",
      "18/18 [==============================] - 0s 2ms/step - loss: 0.9517 - accuracy: 0.9104\n",
      "Epoch 9/10\n",
      "18/18 [==============================] - 0s 2ms/step - loss: 0.9467 - accuracy: 0.9139\n",
      "Epoch 10/10\n",
      "18/18 [==============================] - 0s 2ms/step - loss: 0.9410 - accuracy: 0.9121\n"
     ]
    },
    {
     "data": {
      "text/plain": [
       "<keras.callbacks.History at 0x1818aa61eb0>"
      ]
     },
     "execution_count": 42,
     "metadata": {},
     "output_type": "execute_result"
    }
   ],
   "source": [
    "model.fit(x, y, epochs=10, verbose = 1)"
   ]
  },
  {
   "cell_type": "code",
   "execution_count": 43,
   "metadata": {},
   "outputs": [
    {
     "name": "stdout",
     "output_type": "stream",
     "text": [
      "[0 0 0 0 0]\n",
      "[0.0000000e+00 0.0000000e+00 1.8165842e-38 9.9964583e-01 5.1465745e-17]\n"
     ]
    }
   ],
   "source": [
    "print(y[:5])\n",
    "print(model.predict(x)[:5].reshape(-1,) )"
   ]
  },
  {
   "cell_type": "code",
   "execution_count": null,
   "metadata": {
    "id": "QWWM_b7UXhQT"
   },
   "outputs": [],
   "source": []
  }
 ],
 "metadata": {
  "colab": {
   "collapsed_sections": [],
   "name": "1_2_Func_Exercise.ipynb",
   "provenance": []
  },
  "kernelspec": {
   "display_name": "Python 3",
   "language": "python",
   "name": "python3"
  },
  "language_info": {
   "codemirror_mode": {
    "name": "ipython",
    "version": 3
   },
   "file_extension": ".py",
   "mimetype": "text/x-python",
   "name": "python",
   "nbconvert_exporter": "python",
   "pygments_lexer": "ipython3",
   "version": "3.8.8"
  }
 },
 "nbformat": 4,
 "nbformat_minor": 1
}
