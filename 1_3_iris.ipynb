{
 "cells": [
  {
   "cell_type": "markdown",
   "metadata": {
    "id": "P2n_mLirFD6s"
   },
   "source": [
    "# 멀티클래스 분류 연습 (over 2진분류)\n",
    "\n",
    "![iris_flower](https://media.istockphoto.com/photos/purple-iris-flowers-picture-id974833780?k=6&m=974833780&s=612x612&w=0&h=xANkJjTqlLuJUMLE0qNXjRUqXtr3b428xFm0IgZW8Kc=)"
   ]
  },
  {
   "cell_type": "code",
   "execution_count": 1,
   "metadata": {
    "id": "k-kIj84JQdd3"
   },
   "outputs": [],
   "source": [
    "from sklearn.datasets import load_iris"
   ]
  },
  {
   "cell_type": "code",
   "execution_count": 2,
   "metadata": {
    "id": "1F1kZLpEQof_"
   },
   "outputs": [],
   "source": [
    "iris = load_iris()"
   ]
  },
  {
   "cell_type": "code",
   "execution_count": 3,
   "metadata": {
    "id": "4uNPvbD_QyUh"
   },
   "outputs": [],
   "source": [
    "x = iris.data\n",
    "y = iris.target"
   ]
  },
  {
   "cell_type": "code",
   "execution_count": 4,
   "metadata": {
    "id": "6DfGrWUsQ3WC"
   },
   "outputs": [
    {
     "data": {
      "text/plain": [
       "((150, 4), (150,))"
      ]
     },
     "execution_count": 4,
     "metadata": {},
     "output_type": "execute_result"
    }
   ],
   "source": [
    "x.shape, y.shape"
   ]
  },
  {
   "cell_type": "code",
   "execution_count": 5,
   "metadata": {
    "id": "TNVycVIzQ4gl"
   },
   "outputs": [
    {
     "data": {
      "text/plain": [
       "array([0, 0, 0, 0, 0, 0, 0, 0, 0, 0, 0, 0, 0, 0, 0, 0, 0, 0, 0, 0, 0, 0,\n",
       "       0, 0, 0, 0, 0, 0, 0, 0, 0, 0, 0, 0, 0, 0, 0, 0, 0, 0, 0, 0, 0, 0,\n",
       "       0, 0, 0, 0, 0, 0, 1, 1, 1, 1, 1, 1, 1, 1, 1, 1, 1, 1, 1, 1, 1, 1,\n",
       "       1, 1, 1, 1, 1, 1, 1, 1, 1, 1, 1, 1, 1, 1, 1, 1, 1, 1, 1, 1, 1, 1,\n",
       "       1, 1, 1, 1, 1, 1, 1, 1, 1, 1, 1, 1, 2, 2, 2, 2, 2, 2, 2, 2, 2, 2,\n",
       "       2, 2, 2, 2, 2, 2, 2, 2, 2, 2, 2, 2, 2, 2, 2, 2, 2, 2, 2, 2, 2, 2,\n",
       "       2, 2, 2, 2, 2, 2, 2, 2, 2, 2, 2, 2, 2, 2, 2, 2, 2, 2])"
      ]
     },
     "execution_count": 5,
     "metadata": {},
     "output_type": "execute_result"
    }
   ],
   "source": [
    "y"
   ]
  },
  {
   "cell_type": "code",
   "execution_count": 6,
   "metadata": {
    "id": "98EdXISnGlOB"
   },
   "outputs": [
    {
     "data": {
      "text/plain": [
       "array(['setosa', 'versicolor', 'virginica'], dtype='<U10')"
      ]
     },
     "execution_count": 6,
     "metadata": {},
     "output_type": "execute_result"
    }
   ],
   "source": [
    "iris.target_names"
   ]
  },
  {
   "cell_type": "code",
   "execution_count": 7,
   "metadata": {
    "id": "14BEVhH1RLF9"
   },
   "outputs": [],
   "source": [
    "# One-Hot Encoding\n",
    "from tensorflow.keras.utils import to_categorical"
   ]
  },
  {
   "cell_type": "code",
   "execution_count": 8,
   "metadata": {
    "id": "8KsxiLIITAsY"
   },
   "outputs": [],
   "source": [
    "y = to_categorical(y, 3)"
   ]
  },
  {
   "cell_type": "code",
   "execution_count": 9,
   "metadata": {
    "id": "EnZVKiLRRuA8"
   },
   "outputs": [
    {
     "data": {
      "text/plain": [
       "((150, 4), (150, 3))"
      ]
     },
     "execution_count": 9,
     "metadata": {},
     "output_type": "execute_result"
    }
   ],
   "source": [
    "x.shape, y.shape"
   ]
  },
  {
   "cell_type": "markdown",
   "metadata": {
    "id": "MnwReDCpTTMP"
   },
   "source": [
    "# 1번. Sequential API style로 모델링 하세요\n",
    "\n",
    "    loss = 'categorical_crossentropy' 사용!"
   ]
  },
  {
   "cell_type": "code",
   "execution_count": 12,
   "metadata": {
    "id": "BS1dDAJITXPT"
   },
   "outputs": [],
   "source": [
    "import tensorflow as tf\n",
    "from tensorflow import keras\n",
    "\n",
    "import numpy as np\n",
    "import pandas as pd"
   ]
  },
  {
   "cell_type": "code",
   "execution_count": 11,
   "metadata": {
    "id": "K-QZKTZr8HZb"
   },
   "outputs": [],
   "source": [
    "# 1번 청소 : 이미 만들어진 모델이 있다면 그 모델을 없애줘\n",
    "keras.backend.clear_session()\n",
    "\n",
    "# 2번 모델 선언\n",
    "model = keras.models.Sequential()\n",
    "\n",
    "# 3번 모델 블록 조립\n",
    "model.add( keras.layers.Input(shape=(4,)) )\n",
    "model.add( keras.layers.Dense(3, activation = 'sigmoid') )\n",
    "\n",
    "## 오리지널 Sequential API\n",
    "# model.add( keras.layers.Dense(1, input_shape=(13,)) )\n",
    "\n",
    "# 4번 컴파일 \n",
    "model.compile(loss='categorical_crossentropy',                \n",
    "              optimizer='adam',\n",
    "             metrics=['accuracy'])          \n"
   ]
  },
  {
   "cell_type": "code",
   "execution_count": 12,
   "metadata": {},
   "outputs": [
    {
     "name": "stdout",
     "output_type": "stream",
     "text": [
      "Epoch 1/10\n",
      "5/5 [==============================] - 1s 3ms/step - loss: 1.6841 - accuracy: 0.0133\n",
      "Epoch 2/10\n",
      "5/5 [==============================] - 0s 3ms/step - loss: 1.6404 - accuracy: 0.0200\n",
      "Epoch 3/10\n",
      "5/5 [==============================] - 0s 4ms/step - loss: 1.6020 - accuracy: 0.0267\n",
      "Epoch 4/10\n",
      "5/5 [==============================] - 0s 3ms/step - loss: 1.5658 - accuracy: 0.0267\n",
      "Epoch 5/10\n",
      "5/5 [==============================] - 0s 3ms/step - loss: 1.5304 - accuracy: 0.0333\n",
      "Epoch 6/10\n",
      "5/5 [==============================] - 0s 3ms/step - loss: 1.4986 - accuracy: 0.0400\n",
      "Epoch 7/10\n",
      "5/5 [==============================] - 0s 3ms/step - loss: 1.4678 - accuracy: 0.0533\n",
      "Epoch 8/10\n",
      "5/5 [==============================] - 0s 3ms/step - loss: 1.4425 - accuracy: 0.0733\n",
      "Epoch 9/10\n",
      "5/5 [==============================] - 0s 2ms/step - loss: 1.4213 - accuracy: 0.0800\n",
      "Epoch 10/10\n",
      "5/5 [==============================] - 0s 2ms/step - loss: 1.3975 - accuracy: 0.1067\n"
     ]
    },
    {
     "data": {
      "text/plain": [
       "<keras.callbacks.History at 0x1be3cda9b50>"
      ]
     },
     "execution_count": 12,
     "metadata": {},
     "output_type": "execute_result"
    }
   ],
   "source": [
    "model.fit(x, y, epochs=10, verbose=1)"
   ]
  },
  {
   "cell_type": "code",
   "execution_count": 14,
   "metadata": {},
   "outputs": [
    {
     "data": {
      "text/plain": [
       "array([0.7092429 , 0.8942089 , 0.7309989 , 0.7527679 , 0.8789332 ,\n",
       "       0.7609056 , 0.6990868 , 0.87614286, 0.7170405 , 0.67085207,\n",
       "       0.8572155 , 0.7071159 , 0.67385966, 0.8904667 , 0.7059276 ],\n",
       "      dtype=float32)"
      ]
     },
     "execution_count": 14,
     "metadata": {},
     "output_type": "execute_result"
    }
   ],
   "source": [
    "y_pred = model.predict(x)\n",
    "\n",
    "y_pred[:5].reshape(-1)"
   ]
  },
  {
   "cell_type": "code",
   "execution_count": 17,
   "metadata": {},
   "outputs": [
    {
     "data": {
      "text/plain": [
       "array([[1., 0., 0.],\n",
       "       [1., 0., 0.],\n",
       "       [1., 0., 0.],\n",
       "       [1., 0., 0.],\n",
       "       [1., 0., 0.]], dtype=float32)"
      ]
     },
     "execution_count": 17,
     "metadata": {},
     "output_type": "execute_result"
    }
   ],
   "source": [
    "y[:5]"
   ]
  },
  {
   "cell_type": "code",
   "execution_count": null,
   "metadata": {},
   "outputs": [],
   "source": []
  },
  {
   "cell_type": "markdown",
   "metadata": {
    "id": "-20qo3crbLy8"
   },
   "source": [
    "# 2번. Functional API style로 모델링 하세요"
   ]
  },
  {
   "cell_type": "code",
   "execution_count": 10,
   "metadata": {
    "id": "5aVZkBukdQ8u"
   },
   "outputs": [
    {
     "data": {
      "text/plain": [
       "((150, 4), (150, 3))"
      ]
     },
     "execution_count": 10,
     "metadata": {},
     "output_type": "execute_result"
    }
   ],
   "source": [
    "x.shape, y.shape"
   ]
  },
  {
   "cell_type": "code",
   "execution_count": 22,
   "metadata": {
    "id": "YaAA7ytbbOlQ"
   },
   "outputs": [],
   "source": [
    "keras.backend.clear_session()\n",
    "\n",
    "il = keras.layers.Input(shape = (4,))\n",
    "ol = keras.layers.Dense(3, activation = 'softmax')(il)\n",
    "\n",
    "model = keras.models.Model(il, ol)\n",
    "\n",
    "model.compile(loss = 'categorical_crossentropy',\n",
    "             optimizer = 'adam',\n",
    "             metrics = ['accuracy'])"
   ]
  },
  {
   "cell_type": "code",
   "execution_count": 23,
   "metadata": {
    "id": "NNl2wE-3eJ3u"
   },
   "outputs": [
    {
     "name": "stdout",
     "output_type": "stream",
     "text": [
      "Epoch 1/10\n",
      "5/5 [==============================] - 0s 3ms/step - loss: 3.0082 - accuracy: 0.3333\n",
      "Epoch 2/10\n",
      "5/5 [==============================] - 0s 3ms/step - loss: 2.9559 - accuracy: 0.3333\n",
      "Epoch 3/10\n",
      "5/5 [==============================] - 0s 3ms/step - loss: 2.9076 - accuracy: 0.3333\n",
      "Epoch 4/10\n",
      "5/5 [==============================] - 0s 3ms/step - loss: 2.8595 - accuracy: 0.3333\n",
      "Epoch 5/10\n",
      "5/5 [==============================] - 0s 3ms/step - loss: 2.8126 - accuracy: 0.3333\n",
      "Epoch 6/10\n",
      "5/5 [==============================] - 0s 3ms/step - loss: 2.7688 - accuracy: 0.3333\n",
      "Epoch 7/10\n",
      "5/5 [==============================] - 0s 2ms/step - loss: 2.7254 - accuracy: 0.3333\n",
      "Epoch 8/10\n",
      "5/5 [==============================] - 0s 2ms/step - loss: 2.6865 - accuracy: 0.3333\n",
      "Epoch 9/10\n",
      "5/5 [==============================] - 0s 3ms/step - loss: 2.6441 - accuracy: 0.3333\n",
      "Epoch 10/10\n",
      "5/5 [==============================] - 0s 3ms/step - loss: 2.6075 - accuracy: 0.3333\n"
     ]
    },
    {
     "data": {
      "text/plain": [
       "<keras.callbacks.History at 0x12a851cfd60>"
      ]
     },
     "execution_count": 23,
     "metadata": {},
     "output_type": "execute_result"
    }
   ],
   "source": [
    "model.fit(x,y, epochs=10, verbose = 1)"
   ]
  },
  {
   "cell_type": "code",
   "execution_count": 24,
   "metadata": {},
   "outputs": [
    {
     "data": {
      "text/plain": [
       "array([0.17802306, 0.31168237, 0.5102945 , 0.20100503, 0.21487953,\n",
       "       0.5841155 , 0.19165552, 0.3053935 , 0.50295097, 0.21636112,\n",
       "       0.2570327 , 0.52660614, 0.17499371, 0.3544632 , 0.47054306],\n",
       "      dtype=float32)"
      ]
     },
     "execution_count": 24,
     "metadata": {},
     "output_type": "execute_result"
    }
   ],
   "source": [
    "y_pred = model.predict(x)\n",
    "\n",
    "y_pred[:5].reshape(-1)"
   ]
  },
  {
   "cell_type": "code",
   "execution_count": 25,
   "metadata": {},
   "outputs": [
    {
     "data": {
      "text/plain": [
       "array([[1., 0., 0.],\n",
       "       [1., 0., 0.],\n",
       "       [1., 0., 0.],\n",
       "       [1., 0., 0.],\n",
       "       [1., 0., 0.]], dtype=float32)"
      ]
     },
     "execution_count": 25,
     "metadata": {},
     "output_type": "execute_result"
    }
   ],
   "source": [
    "y[:5]"
   ]
  },
  {
   "cell_type": "code",
   "execution_count": null,
   "metadata": {},
   "outputs": [],
   "source": []
  }
 ],
 "metadata": {
  "colab": {
   "collapsed_sections": [],
   "name": "1_3_iris.ipynb",
   "provenance": []
  },
  "kernelspec": {
   "display_name": "Python 3",
   "language": "python",
   "name": "python3"
  },
  "language_info": {
   "codemirror_mode": {
    "name": "ipython",
    "version": 3
   },
   "file_extension": ".py",
   "mimetype": "text/x-python",
   "name": "python",
   "nbconvert_exporter": "python",
   "pygments_lexer": "ipython3",
   "version": "3.8.8"
  }
 },
 "nbformat": 4,
 "nbformat_minor": 1
}
